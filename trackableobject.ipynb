{
 "cells": [
  {
   "cell_type": "code",
   "execution_count": null,
   "id": "6d21738f",
   "metadata": {},
   "outputs": [],
   "source": [
    "class TrackableObject:\n",
    "    def __init__(self, objectID, centroid):\n",
    "        # 객체 ID\n",
    "        self.objectID = objectID\n",
    "\n",
    "        # 객체 중심 좌표 목록\n",
    "        self.centroids = [centroid]\n",
    "        \n",
    "        # 객체 counting 여부\n",
    "        self.counted = False"
   ]
  }
 ],
 "metadata": {
  "kernelspec": {
   "display_name": "proj_cv",
   "language": "python",
   "name": "proj_cv"
  },
  "language_info": {
   "codemirror_mode": {
    "name": "ipython",
    "version": 3
   },
   "file_extension": ".py",
   "mimetype": "text/x-python",
   "name": "python",
   "nbconvert_exporter": "python",
   "pygments_lexer": "ipython3",
   "version": "3.10.0"
  }
 },
 "nbformat": 4,
 "nbformat_minor": 5
}
